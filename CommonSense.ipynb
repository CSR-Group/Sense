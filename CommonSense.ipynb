{
 "cells": [
  {
   "cell_type": "code",
   "execution_count": 1,
   "metadata": {},
   "outputs": [],
   "source": [
    "from csense.benchmark import cqa\n",
    "from PyDictionary import PyDictionary\n",
    "import spacy\n",
    "dictionary=PyDictionary()\n",
    "nlp = spacy.load(\"en_core_web_sm\")"
   ]
  },
  {
   "cell_type": "code",
   "execution_count": 2,
   "metadata": {},
   "outputs": [],
   "source": [
    "dataset = cqa.getDataSet()"
   ]
  },
  {
   "cell_type": "code",
   "execution_count": 4,
   "metadata": {},
   "outputs": [
    {
     "data": {
      "text/plain": [
       "{'answerKey': 'C',\n",
       " 'id': '23505889b94e880c3e89cff4ba119860',\n",
       " 'question': {'question_concept': 'fox',\n",
       "  'choices': [{'label': 'A', 'text': 'pretty flowers.'},\n",
       "   {'label': 'B', 'text': 'hen house'},\n",
       "   {'label': 'C', 'text': 'natural habitat'},\n",
       "   {'label': 'D', 'text': 'storybook'},\n",
       "   {'label': 'E', 'text': 'dense forest'}],\n",
       "  'stem': 'The fox walked from the city into the forest, what was it looking for?'}}"
      ]
     },
     "execution_count": 4,
     "metadata": {},
     "output_type": "execute_result"
    }
   ],
   "source": [
    "question = dataset[4]\n",
    "question"
   ]
  },
  {
   "cell_type": "code",
   "execution_count": 41,
   "metadata": {},
   "outputs": [
    {
     "name": "stdout",
     "output_type": "stream",
     "text": [
      "John didn't like committing perjury. It made him feel what emotion?\n"
     ]
    }
   ],
   "source": [
    "doc = nlp(question['question']['stem'])\n",
    "# doc = nlp(\"What does an animal do when it becomes old?\")\n",
    "# doc = nlp(\"What could cause a drop of blood to fall?\")\n",
    "# doc = nlp(\"You can buy gum, candy and popcorn before watching what?\")\n",
    "doc = nlp(\"John didn't like committing perjury. It made him feel what emotion?\")\n",
    "# doc = nlp(\"The child was skipping stones in nature, so where was he?\")\n",
    "# doc = nlp(\"Many people have mental issues, they need someone to what?\")\n",
    "# doc = nlp(\"Where would I go to see a musician playing a snare drum in a theater?\")\n",
    "print(doc)"
   ]
  },
  {
   "cell_type": "code",
   "execution_count": 42,
   "metadata": {
    "scrolled": true
   },
   "outputs": [
    {
     "name": "stdout",
     "output_type": "stream",
     "text": [
      "### noun chunks ###\n",
      "John\n",
      "perjury\n",
      "It\n",
      "him\n",
      "### dependency parse ###\n",
      "John nsubj like VERB []\n",
      "did aux like VERB []\n",
      "n't neg like VERB []\n",
      "like ROOT like VERB [John, did, n't, committing, .]\n",
      "committing xcomp like VERB [perjury]\n",
      "perjury dobj committing VERB []\n",
      ". punct like VERB []\n",
      "It nsubj made VERB []\n",
      "made ROOT made VERB [It, feel, ?]\n",
      "him nsubj feel VERB []\n",
      "feel ccomp made VERB [him, emotion]\n",
      "what det emotion NOUN []\n",
      "emotion ccomp feel VERB [what]\n",
      "? punct made VERB []\n"
     ]
    }
   ],
   "source": [
    "print(\"### noun chunks ###\")\n",
    "for chunk in doc.noun_chunks:\n",
    "    print(chunk.root.text)\n",
    "    \n",
    "print(\"### dependency parse ###\")\n",
    "for token in doc:\n",
    "    print(token.text, token.dep_, token.head.text, token.head.pos_,\n",
    "            [child for child in token.children])\n"
   ]
  },
  {
   "cell_type": "code",
   "execution_count": null,
   "metadata": {},
   "outputs": [],
   "source": [
    "spacy.explain(\"xcomp\")"
   ]
  },
  {
   "cell_type": "code",
   "execution_count": null,
   "metadata": {},
   "outputs": [],
   "source": []
  }
 ],
 "metadata": {
  "kernelspec": {
   "display_name": "venv",
   "language": "python",
   "name": "venv"
  },
  "language_info": {
   "codemirror_mode": {
    "name": "ipython",
    "version": 3
   },
   "file_extension": ".py",
   "mimetype": "text/x-python",
   "name": "python",
   "nbconvert_exporter": "python",
   "pygments_lexer": "ipython3",
   "version": "3.7.7"
  }
 },
 "nbformat": 4,
 "nbformat_minor": 2
}
