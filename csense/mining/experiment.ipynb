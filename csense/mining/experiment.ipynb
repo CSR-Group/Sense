{
 "cells": [
  {
   "cell_type": "code",
   "execution_count": 1,
   "metadata": {},
   "outputs": [],
   "source": [
    "import gensim\n"
   ]
  },
  {
   "cell_type": "code",
   "execution_count": 2,
   "metadata": {},
   "outputs": [
    {
     "name": "stdout",
     "output_type": "stream",
     "text": [
      "[-0.54015  -0.29931  -0.67591   0.15784   0.90241  -0.89567  -1.1267\n",
      " -0.69013   0.7116    0.71231   0.11031  -0.37268   0.93846  -0.42899\n",
      "  1.0807    0.43785  -0.38785   0.65528   0.34501  -1.3793    1.114\n",
      " -0.20227   0.53612   0.67394  -0.52717  -0.30703  -0.14833   0.78579\n",
      "  0.84364   0.56468   2.1954   -0.097544 -0.41744   1.0296    0.083024\n",
      " -0.1552   -1.1257    0.74416   1.1534    0.24415   0.057113  0.63826\n",
      " -0.35989  -0.031659  0.88827   0.78731  -0.47028  -0.69737   0.12029\n",
      " -0.41486 ]\n"
     ]
    }
   ],
   "source": [
    "MODEL_PATH = \"data/vectors/glove.6B/glove.6B.50d.w2vformat.txt\"\n",
    "model = gensim.models.KeyedVectors.load_word2vec_format(MODEL_PATH, binary=False)\n",
    "\n",
    "print(model['coffee'])"
   ]
  },
  {
   "cell_type": "code",
   "execution_count": 20,
   "metadata": {},
   "outputs": [
    {
     "name": "stdout",
     "output_type": "stream",
     "text": [
      "[('coffee', 0.7290167212486267), ('sipping', 0.640059232711792), ('granola', 0.6349887251853943), ('decaffeinated', 0.6298849582672119), ('arabica', 0.6243581175804138), ('wet', 0.610854983329773), ('snack', 0.6057090163230896), ('klatch', 0.5969459414482117), ('flannel', 0.5909316539764404), ('cuppa', 0.5906804203987122), ('tortilla', 0.5905526280403137), ('l.l.', 0.5874049067497253), ('cotton', 0.582425594329834), ('staple', 0.58086758852005), ('wallpaper', 0.5796173810958862), ('decaf', 0.5770370960235596), ('beans', 0.5767936110496521), ('unroasted', 0.575308620929718), ('soaked', 0.5743114948272705), ('jeans', 0.5714352130889893)]\n",
      "[('coffee', 1.0), ('drink', 0.8187439441680908), ('drinks', 0.8176289200782776), ('wine', 0.8141363263130188), ('tea', 0.8079648017883301), ('beer', 0.8042463660240173), ('food', 0.7853198647499084), ('sugar', 0.7774224281311035), ('corn', 0.7606632113456726), ('vegetable', 0.7600641846656799), ('beverage', 0.7582396268844604), ('fruit', 0.7524078488349915), ('cocoa', 0.752169132232666), ('bread', 0.750792384147644), ('beans', 0.7424465417861938), ('bottled', 0.7405045032501221), ('milk', 0.7396247386932373), ('juice', 0.7361319661140442), ('sipping', 0.7354668974876404), ('coke', 0.7337973713874817)]\n"
     ]
    }
   ],
   "source": [
    "char = model['water'] - model['wet']\n",
    "coffee = model['coffee']\n",
    "x = coffee - char\n",
    "\n",
    "print(model.most_similar(positive=[x], topn=20))\n",
    "print(model.most_similar(positive=[coffee], topn=20))"
   ]
  },
  {
   "cell_type": "code",
   "execution_count": 25,
   "metadata": {},
   "outputs": [],
   "source": [
    "charList = [('water','wet'), ('sun', 'hot'), ('ice','cold'), ('rock', 'solid'), ('rock', 'hard'), ('sand', 'grainy'), ('pillow', 'soft')]\n",
    "\n",
    "vector = None\n",
    "for char in charList:\n",
    "    vec = model[char[0]] - model[char[1]]\n",
    "    if(vector is None):\n",
    "        vector = vec        \n",
    "    else:\n",
    "        vector = vector + vec\n",
    "    \n",
    "charVector = vector / len(charList)"
   ]
  },
  {
   "cell_type": "code",
   "execution_count": 29,
   "metadata": {},
   "outputs": [
    {
     "name": "stdout",
     "output_type": "stream",
     "text": [
      "[('coffee', 0.9049162864685059), ('drinks', 0.8019360899925232), ('drink', 0.7634934782981873), ('food', 0.7631793022155762), ('vegetable', 0.7475332021713257)]\n",
      "[('tea', 0.9005345106124878), ('drinks', 0.7607823014259338), ('coffee', 0.7327182292938232), ('snack', 0.7276625633239746), ('spiced', 0.7153818011283875)]\n",
      "[('table', 0.8916913270950317), ('fit', 0.7175629734992981), ('comfortable', 0.7149651050567627), ('dressing', 0.6944011449813843), ('place', 0.6852817535400391)]\n"
     ]
    }
   ],
   "source": [
    "print(model.most_similar(positive=[model['coffee'] - charVector], topn=5))\n",
    "print(model.most_similar(positive=[model['tea'] - charVector], topn=5))\n",
    "print(model.most_similar(positive=[model['table'] - charVector], topn=5))\n",
    "# print(model.most_similar(positive=[model['sky'] - charVector], topn=5))\n",
    "# print(model.most_similar(positive=[model['sky']], topn=5))\n"
   ]
  }
 ],
 "metadata": {
  "kernelspec": {
   "display_name": "Python 3.7.6 64-bit ('venv': venv)",
   "language": "python",
   "name": "python37664bitvenvvenv83c21f7eb6874bb582bad50b5e6290e6"
  },
  "language_info": {
   "codemirror_mode": {
    "name": "ipython",
    "version": 3
   },
   "file_extension": ".py",
   "mimetype": "text/x-python",
   "name": "python",
   "nbconvert_exporter": "python",
   "pygments_lexer": "ipython3",
   "version": "3.7.6"
  }
 },
 "nbformat": 4,
 "nbformat_minor": 2
}
