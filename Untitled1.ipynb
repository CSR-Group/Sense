{
 "cells": [
  {
   "cell_type": "code",
   "execution_count": 1,
   "metadata": {},
   "outputs": [],
   "source": [
    "from csense.benchmark import cloze_task\n",
    "from PyDictionary import PyDictionary\n",
    "import spacy\n",
    "import random"
   ]
  },
  {
   "cell_type": "code",
   "execution_count": 2,
   "metadata": {},
   "outputs": [],
   "source": [
    "dictionary=PyDictionary()\n",
    "nlp = spacy.load(\"en_core_web_sm\")"
   ]
  },
  {
   "cell_type": "code",
   "execution_count": 3,
   "metadata": {},
   "outputs": [
    {
     "ename": "NameError",
     "evalue": "name 'Story' is not defined",
     "output_type": "error",
     "traceback": [
      "\u001b[0;31m---------------------------------------------------------------------------\u001b[0m",
      "\u001b[0;31mNameError\u001b[0m                                 Traceback (most recent call last)",
      "\u001b[0;32m<ipython-input-3-a5cf35296016>\u001b[0m in \u001b[0;36m<module>\u001b[0;34m\u001b[0m\n\u001b[0;32m----> 1\u001b[0;31m \u001b[0mstories\u001b[0m \u001b[0;34m=\u001b[0m \u001b[0mcloze_task\u001b[0m\u001b[0;34m.\u001b[0m\u001b[0mgetDataSet\u001b[0m\u001b[0;34m(\u001b[0m\u001b[0;34m)\u001b[0m\u001b[0;34m\u001b[0m\u001b[0;34m\u001b[0m\u001b[0m\n\u001b[0m",
      "\u001b[0;32m~/achilles/workspace/Sense/csense/benchmark/cloze_task.py\u001b[0m in \u001b[0;36mgetDataSet\u001b[0;34m(path)\u001b[0m\n\u001b[1;32m     18\u001b[0m         \u001b[0mnext\u001b[0m\u001b[0;34m(\u001b[0m\u001b[0mdata\u001b[0m\u001b[0;34m)\u001b[0m\u001b[0;34m\u001b[0m\u001b[0;34m\u001b[0m\u001b[0m\n\u001b[1;32m     19\u001b[0m         \u001b[0;32mfor\u001b[0m \u001b[0mrow\u001b[0m \u001b[0;32min\u001b[0m \u001b[0mdata\u001b[0m\u001b[0;34m:\u001b[0m\u001b[0;34m\u001b[0m\u001b[0;34m\u001b[0m\u001b[0m\n\u001b[0;32m---> 20\u001b[0;31m                 \u001b[0mstories\u001b[0m\u001b[0;34m.\u001b[0m\u001b[0mappend\u001b[0m\u001b[0;34m(\u001b[0m\u001b[0mStory\u001b[0m\u001b[0;34m(\u001b[0m\u001b[0mrow\u001b[0m\u001b[0;34m[\u001b[0m\u001b[0;36m0\u001b[0m\u001b[0;34m]\u001b[0m\u001b[0;34m,\u001b[0m\u001b[0mrow\u001b[0m\u001b[0;34m[\u001b[0m\u001b[0;36m1\u001b[0m\u001b[0;34m]\u001b[0m\u001b[0;34m,\u001b[0m\u001b[0mrow\u001b[0m\u001b[0;34m[\u001b[0m\u001b[0;36m2\u001b[0m\u001b[0;34m]\u001b[0m\u001b[0;34m,\u001b[0m\u001b[0mrow\u001b[0m\u001b[0;34m[\u001b[0m\u001b[0;36m3\u001b[0m\u001b[0;34m]\u001b[0m\u001b[0;34m,\u001b[0m\u001b[0mrow\u001b[0m\u001b[0;34m[\u001b[0m\u001b[0;36m4\u001b[0m\u001b[0;34m]\u001b[0m\u001b[0;34m,\u001b[0m\u001b[0mrow\u001b[0m\u001b[0;34m[\u001b[0m\u001b[0;36m5\u001b[0m\u001b[0;34m]\u001b[0m\u001b[0;34m,\u001b[0m\u001b[0mrow\u001b[0m\u001b[0;34m[\u001b[0m\u001b[0;36m6\u001b[0m\u001b[0;34m]\u001b[0m\u001b[0;34m,\u001b[0m\u001b[0mrow\u001b[0m\u001b[0;34m[\u001b[0m\u001b[0;36m7\u001b[0m\u001b[0;34m]\u001b[0m\u001b[0;34m)\u001b[0m\u001b[0;34m)\u001b[0m\u001b[0;34m\u001b[0m\u001b[0;34m\u001b[0m\u001b[0m\n\u001b[0m\u001b[1;32m     21\u001b[0m     \u001b[0;32mreturn\u001b[0m \u001b[0mstories\u001b[0m\u001b[0;34m\u001b[0m\u001b[0;34m\u001b[0m\u001b[0m\n",
      "\u001b[0;31mNameError\u001b[0m: name 'Story' is not defined"
     ]
    }
   ],
   "source": [
    "stories = cloze_task.getDataSet()"
   ]
  },
  {
   "cell_type": "code",
   "execution_count": 4,
   "metadata": {},
   "outputs": [
    {
     "ename": "NameError",
     "evalue": "name 'stories' is not defined",
     "output_type": "error",
     "traceback": [
      "\u001b[0;31m---------------------------------------------------------------------------\u001b[0m",
      "\u001b[0;31mNameError\u001b[0m                                 Traceback (most recent call last)",
      "\u001b[0;32m<ipython-input-4-b67e6eceeb7c>\u001b[0m in \u001b[0;36m<module>\u001b[0;34m\u001b[0m\n\u001b[0;32m----> 1\u001b[0;31m \u001b[0mprint\u001b[0m\u001b[0;34m(\u001b[0m\u001b[0mstories\u001b[0m\u001b[0;34m[\u001b[0m\u001b[0;36m0\u001b[0m\u001b[0;34m]\u001b[0m\u001b[0;34m.\u001b[0m\u001b[0msentence1\u001b[0m\u001b[0;34m)\u001b[0m\u001b[0;34m\u001b[0m\u001b[0;34m\u001b[0m\u001b[0m\n\u001b[0m\u001b[1;32m      2\u001b[0m \u001b[0mprint\u001b[0m\u001b[0;34m(\u001b[0m\u001b[0mstories\u001b[0m\u001b[0;34m[\u001b[0m\u001b[0;36m0\u001b[0m\u001b[0;34m]\u001b[0m\u001b[0;34m.\u001b[0m\u001b[0msentence2\u001b[0m\u001b[0;34m)\u001b[0m\u001b[0;34m\u001b[0m\u001b[0;34m\u001b[0m\u001b[0m\n\u001b[1;32m      3\u001b[0m \u001b[0mprint\u001b[0m\u001b[0;34m(\u001b[0m\u001b[0mstories\u001b[0m\u001b[0;34m[\u001b[0m\u001b[0;36m0\u001b[0m\u001b[0;34m]\u001b[0m\u001b[0;34m.\u001b[0m\u001b[0msentence3\u001b[0m\u001b[0;34m)\u001b[0m\u001b[0;34m\u001b[0m\u001b[0;34m\u001b[0m\u001b[0m\n\u001b[1;32m      4\u001b[0m \u001b[0mprint\u001b[0m\u001b[0;34m(\u001b[0m\u001b[0mstories\u001b[0m\u001b[0;34m[\u001b[0m\u001b[0;36m0\u001b[0m\u001b[0;34m]\u001b[0m\u001b[0;34m.\u001b[0m\u001b[0msentence4\u001b[0m\u001b[0;34m)\u001b[0m\u001b[0;34m\u001b[0m\u001b[0;34m\u001b[0m\u001b[0m\n\u001b[1;32m      5\u001b[0m \u001b[0mprint\u001b[0m\u001b[0;34m(\u001b[0m\u001b[0mstories\u001b[0m\u001b[0;34m[\u001b[0m\u001b[0;36m0\u001b[0m\u001b[0;34m]\u001b[0m\u001b[0;34m.\u001b[0m\u001b[0mend1\u001b[0m\u001b[0;34m)\u001b[0m\u001b[0;34m\u001b[0m\u001b[0;34m\u001b[0m\u001b[0m\n",
      "\u001b[0;31mNameError\u001b[0m: name 'stories' is not defined"
     ]
    }
   ],
   "source": [
    "print(stories[0].sentence1)\n",
    "print(stories[0].sentence2)\n",
    "print(stories[0].sentence3)\n",
    "print(stories[0].sentence4)\n",
    "print(stories[0].end1)\n",
    "print(stories[0].end2)"
   ]
  },
  {
   "cell_type": "code",
   "execution_count": 5,
   "metadata": {},
   "outputs": [
    {
     "name": "stdout",
     "output_type": "stream",
     "text": [
      "### story ###\n",
      "\"Sonny lived in Texas\n",
      " and it was a hot summer.\"\n",
      "He was so sick of the heat.\n",
      "He decided to find a way to cool off.\n",
      "### endings ###\n",
      "\"At first\n",
      " he couldn't think of anything.\"\n",
      "He decided to go turn on his heaters.\n",
      "\n",
      "\n",
      "\n",
      "### noun chunks ###\n",
      "Sonny\n",
      "Texas\n",
      "it\n",
      "summer\n",
      "He\n",
      "heat\n",
      "He\n",
      "way\n",
      "### dependency parse ###\n",
      "\" ROOT \" PUNCT []\n",
      "Sonny nsubj lived VERB []\n",
      "lived ROOT lived VERB [Sonny, in, and, was]\n",
      "in prep lived VERB [Texas]\n",
      "Texas pobj in ADP [ ]\n",
      "   Texas PROPN []\n",
      "and cc lived VERB []\n",
      "it nsubj was VERB []\n",
      "was conj lived VERB [it, summer, .]\n",
      "a det summer NOUN []\n",
      "hot amod summer NOUN []\n",
      "summer attr was VERB [a, hot]\n",
      ". punct was VERB []\n",
      "\" ROOT \" PUNCT []\n",
      "He nsubj was VERB []\n",
      "was ROOT was VERB [He, sick, .]\n",
      "so advmod sick ADJ []\n",
      "sick acomp was VERB [so, of]\n",
      "of prep sick ADJ [heat]\n",
      "the det heat NOUN []\n",
      "heat pobj of ADP [the]\n",
      ". punct was VERB []\n",
      "He nsubj decided VERB []\n",
      "decided ROOT decided VERB [He, find, .]\n",
      "to aux find VERB []\n",
      "find xcomp decided VERB [to, way]\n",
      "a det way NOUN []\n",
      "way dobj find VERB [a, cool]\n",
      "to aux cool VERB []\n",
      "cool relcl way NOUN [to, off]\n",
      "off prt cool VERB []\n",
      ". punct decided VERB []\n"
     ]
    }
   ],
   "source": [
    "n = random.randint(0, len(stories))\n",
    "\n",
    "story = stories[n]\n",
    "\n",
    "print(\"### story ###\")\n",
    "\n",
    "print(stories[n].sentence1)\n",
    "print(stories[n].sentence2)\n",
    "print(stories[n].sentence3)\n",
    "print(stories[n].sentence4)\n",
    "print(\"### endings ###\")\n",
    "print(stories[n].end1)\n",
    "print(stories[n].end2)\n",
    "print(stories[n].ans)\n",
    "\n",
    "\n",
    "\n",
    "\n",
    "doc = nlp(story.getFullStory())\n",
    "\n",
    "print(\"\\n\\n\")\n",
    "\n",
    "print(\"### noun chunks ###\")\n",
    "for chunk in doc.noun_chunks:\n",
    "    print(chunk.root.text)\n",
    "    \n",
    "print(\"### dependency parse ###\")\n",
    "for token in doc:\n",
    "    print(token.text, token.dep_, token.head.text, token.head.pos_,\n",
    "            [child for child in token.children])\n",
    "\n"
   ]
  },
  {
   "cell_type": "code",
   "execution_count": null,
   "metadata": {},
   "outputs": [],
   "source": [
    "n = random.randint(0, len(stories))\n",
    "\n",
    "story = stories[n]\n",
    "\n",
    "print(\"### story ###\")\n",
    "\n",
    "print(stories[n].sentence1)\n",
    "print(stories[n].sentence2)\n",
    "print(stories[n].sentence3)\n",
    "print(stories[n].sentence4)\n",
    "print(\"### endings ###\")\n",
    "print(stories[n].end1)\n",
    "print(stories[n].end2)\n",
    "print(stories[n].ans)\n",
    "\n",
    "\n",
    "\n",
    "\n",
    "doc = nlp(story.getFullStory())\n",
    "\n",
    "print(\"\\n\\n\")\n",
    "\n",
    "print(\"### noun chunks ###\")\n",
    "for chunk in doc.noun_chunks:\n",
    "    print(chunk.root.text)\n",
    "    \n",
    "print(\"### dependency parse ###\")\n",
    "for token in doc:\n",
    "    print(token.text, token.dep_, token.head.text, token.head.pos_,\n",
    "            [child for child in token.children])\n"
   ]
  },
  {
   "cell_type": "code",
   "execution_count": null,
   "metadata": {},
   "outputs": [],
   "source": []
  },
  {
   "cell_type": "code",
   "execution_count": 19,
   "metadata": {},
   "outputs": [
    {
     "name": "stdout",
     "output_type": "stream",
     "text": [
      "He\n",
      "support\n",
      "family\n",
      "gangs\n"
     ]
    }
   ],
   "source": [
    "\n",
    "doc = nlp(\"He never found good support in family and turned to gangs\")\n",
    "#     print(chunk.text, chunk.root.text, chunk.root.dep_,\n",
    "#             chunk.root.head.text)"
   ]
  },
  {
   "cell_type": "code",
   "execution_count": null,
   "metadata": {},
   "outputs": [],
   "source": [
    "spacy.help('')\n"
   ]
  }
 ],
 "metadata": {
  "kernelspec": {
   "display_name": "venv",
   "language": "python",
   "name": "venv"
  },
  "language_info": {
   "codemirror_mode": {
    "name": "ipython",
    "version": 3
   },
   "file_extension": ".py",
   "mimetype": "text/x-python",
   "name": "python",
   "nbconvert_exporter": "python",
   "pygments_lexer": "ipython3",
   "version": "3.7.7"
  }
 },
 "nbformat": 4,
 "nbformat_minor": 2
}
